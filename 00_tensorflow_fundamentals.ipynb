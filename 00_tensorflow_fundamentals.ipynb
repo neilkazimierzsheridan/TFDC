{
  "nbformat": 4,
  "nbformat_minor": 0,
  "metadata": {
    "colab": {
      "name": "00_tensorflow_fundamentals.ipynb",
      "provenance": [],
      "collapsed_sections": [],
      "authorship_tag": "ABX9TyP7MyUwhwQQbEN2TBdxakJs",
      "include_colab_link": true
    },
    "kernelspec": {
      "name": "python3",
      "display_name": "Python 3"
    },
    "language_info": {
      "name": "python"
    },
    "accelerator": "GPU"
  },
  "cells": [
    {
      "cell_type": "markdown",
      "metadata": {
        "id": "view-in-github",
        "colab_type": "text"
      },
      "source": [
        "<a href=\"https://colab.research.google.com/github/neilkazimierzsheridan/TFDC/blob/main/00_tensorflow_fundamentals.ipynb\" target=\"_parent\"><img src=\"https://colab.research.google.com/assets/colab-badge.svg\" alt=\"Open In Colab\"/></a>"
      ]
    },
    {
      "cell_type": "code",
      "metadata": {
        "id": "CGjhIYi_eh4V"
      },
      "source": [
        "import tensorflow as tf"
      ],
      "execution_count": 1,
      "outputs": []
    },
    {
      "cell_type": "code",
      "metadata": {
        "id": "oeYQp6mgvBEa"
      },
      "source": [
        ""
      ],
      "execution_count": 1,
      "outputs": []
    },
    {
      "cell_type": "markdown",
      "metadata": {
        "id": "RzBRS40ffCkO"
      },
      "source": [
        "Intro to tensors\n"
      ]
    },
    {
      "cell_type": "code",
      "metadata": {
        "colab": {
          "base_uri": "https://localhost:8080/"
        },
        "id": "fZLLYjUIfRKu",
        "outputId": "7d6b6b5f-f551-4ba4-fbbb-7fb1225874dd"
      },
      "source": [
        "print(tf.__version__)"
      ],
      "execution_count": 2,
      "outputs": [
        {
          "output_type": "stream",
          "text": [
            "2.5.0\n"
          ],
          "name": "stdout"
        }
      ]
    },
    {
      "cell_type": "markdown",
      "metadata": {
        "id": "WZpSz2eOfeEu"
      },
      "source": [
        "Making tensors with tf.constant()\n"
      ]
    },
    {
      "cell_type": "code",
      "metadata": {
        "colab": {
          "base_uri": "https://localhost:8080/"
        },
        "id": "Na_nw7GBfjRZ",
        "outputId": "5aca5d3d-1db4-467f-e13d-638ff1e3ae81"
      },
      "source": [
        "scalar = tf.constant(7)\n",
        "scalar"
      ],
      "execution_count": 3,
      "outputs": [
        {
          "output_type": "execute_result",
          "data": {
            "text/plain": [
              "<tf.Tensor: shape=(), dtype=int32, numpy=7>"
            ]
          },
          "metadata": {
            "tags": []
          },
          "execution_count": 3
        }
      ]
    },
    {
      "cell_type": "code",
      "metadata": {
        "colab": {
          "base_uri": "https://localhost:8080/"
        },
        "id": "JIVNxh3wf4Bx",
        "outputId": "dff58b91-1b5b-4288-c63a-96c85e1f6b30"
      },
      "source": [
        "#check ndim (number of dimensions)\n",
        "scalar.ndim"
      ],
      "execution_count": 4,
      "outputs": [
        {
          "output_type": "execute_result",
          "data": {
            "text/plain": [
              "0"
            ]
          },
          "metadata": {
            "tags": []
          },
          "execution_count": 4
        }
      ]
    },
    {
      "cell_type": "code",
      "metadata": {
        "colab": {
          "base_uri": "https://localhost:8080/"
        },
        "id": "NGCREH0MgCBZ",
        "outputId": "796e6614-484a-4916-a74e-a4c2bce0ab52"
      },
      "source": [
        "#here a vector\n",
        "vector = tf.constant([10, 10])\n",
        "vector"
      ],
      "execution_count": 5,
      "outputs": [
        {
          "output_type": "execute_result",
          "data": {
            "text/plain": [
              "<tf.Tensor: shape=(2,), dtype=int32, numpy=array([10, 10], dtype=int32)>"
            ]
          },
          "metadata": {
            "tags": []
          },
          "execution_count": 5
        }
      ]
    },
    {
      "cell_type": "code",
      "metadata": {
        "colab": {
          "base_uri": "https://localhost:8080/"
        },
        "id": "-skguigngOWq",
        "outputId": "0cec6cc7-5553-4fc0-cd84-38468f9895cd"
      },
      "source": [
        "#ndim?\n",
        "vector.ndim"
      ],
      "execution_count": 6,
      "outputs": [
        {
          "output_type": "execute_result",
          "data": {
            "text/plain": [
              "1"
            ]
          },
          "metadata": {
            "tags": []
          },
          "execution_count": 6
        }
      ]
    },
    {
      "cell_type": "code",
      "metadata": {
        "colab": {
          "base_uri": "https://localhost:8080/"
        },
        "id": "flIkeFYtgVE2",
        "outputId": "f184fc98-2abd-45be-8a2d-991a4e168b8e"
      },
      "source": [
        "#now a matrix\n",
        "matrix = tf.constant([[10,7],\n",
        "[7,10]])\n",
        "matrix\n"
      ],
      "execution_count": 7,
      "outputs": [
        {
          "output_type": "execute_result",
          "data": {
            "text/plain": [
              "<tf.Tensor: shape=(2, 2), dtype=int32, numpy=\n",
              "array([[10,  7],\n",
              "       [ 7, 10]], dtype=int32)>"
            ]
          },
          "metadata": {
            "tags": []
          },
          "execution_count": 7
        }
      ]
    },
    {
      "cell_type": "code",
      "metadata": {
        "colab": {
          "base_uri": "https://localhost:8080/"
        },
        "id": "LpBfNHZWg1Dy",
        "outputId": "de76351f-b43f-4f32-bf8f-52cb499b3719"
      },
      "source": [
        "matrix.ndim"
      ],
      "execution_count": 8,
      "outputs": [
        {
          "output_type": "execute_result",
          "data": {
            "text/plain": [
              "2"
            ]
          },
          "metadata": {
            "tags": []
          },
          "execution_count": 8
        }
      ]
    },
    {
      "cell_type": "code",
      "metadata": {
        "colab": {
          "base_uri": "https://localhost:8080/"
        },
        "id": "JarkFbHMhAlO",
        "outputId": "370d2234-1b6b-4376-8f84-355572e49ce4"
      },
      "source": [
        "another_matrix = tf.constant([[10.,7.],\n",
        "                              [3.,2.],\n",
        "                              [8., 9.]], dtype=tf.float16)\n",
        "#specifiy datatype with dtype as floating point number 16\n",
        "another_matrix"
      ],
      "execution_count": 9,
      "outputs": [
        {
          "output_type": "execute_result",
          "data": {
            "text/plain": [
              "<tf.Tensor: shape=(3, 2), dtype=float16, numpy=\n",
              "array([[10.,  7.],\n",
              "       [ 3.,  2.],\n",
              "       [ 8.,  9.]], dtype=float16)>"
            ]
          },
          "metadata": {
            "tags": []
          },
          "execution_count": 9
        }
      ]
    },
    {
      "cell_type": "code",
      "metadata": {
        "colab": {
          "base_uri": "https://localhost:8080/"
        },
        "id": "UnveKJXwiCKq",
        "outputId": "c932324c-be35-4660-dabd-fe8c44c0c655"
      },
      "source": [
        "another_matrix.ndim"
      ],
      "execution_count": 10,
      "outputs": [
        {
          "output_type": "execute_result",
          "data": {
            "text/plain": [
              "2"
            ]
          },
          "metadata": {
            "tags": []
          },
          "execution_count": 10
        }
      ]
    },
    {
      "cell_type": "code",
      "metadata": {
        "colab": {
          "base_uri": "https://localhost:8080/"
        },
        "id": "m3pEAOWxiJM8",
        "outputId": "73b5f3d9-d5b6-484f-c4dc-cc5f22990245"
      },
      "source": [
        "#Now a tensor \n",
        "tensor = tf.constant([[[1,2,3],\n",
        "                       [4,5,6]],\n",
        "                      [[7,8,9],\n",
        "                       [10,11,12]],\n",
        "                      [[13,14,15],\n",
        "                       [16,17,18]]])\n",
        "tensor"
      ],
      "execution_count": 11,
      "outputs": [
        {
          "output_type": "execute_result",
          "data": {
            "text/plain": [
              "<tf.Tensor: shape=(3, 2, 3), dtype=int32, numpy=\n",
              "array([[[ 1,  2,  3],\n",
              "        [ 4,  5,  6]],\n",
              "\n",
              "       [[ 7,  8,  9],\n",
              "        [10, 11, 12]],\n",
              "\n",
              "       [[13, 14, 15],\n",
              "        [16, 17, 18]]], dtype=int32)>"
            ]
          },
          "metadata": {
            "tags": []
          },
          "execution_count": 11
        }
      ]
    },
    {
      "cell_type": "code",
      "metadata": {
        "colab": {
          "base_uri": "https://localhost:8080/"
        },
        "id": "Zpw7ZQQIjXuF",
        "outputId": "a9da935a-9455-4527-f444-66b512ba103a"
      },
      "source": [
        "#so we made ndim of 3 with this one, but tensor is n dimensional\n",
        "tensor.ndim"
      ],
      "execution_count": 12,
      "outputs": [
        {
          "output_type": "execute_result",
          "data": {
            "text/plain": [
              "3"
            ]
          },
          "metadata": {
            "tags": []
          },
          "execution_count": 12
        }
      ]
    },
    {
      "cell_type": "code",
      "metadata": {
        "colab": {
          "base_uri": "https://localhost:8080/"
        },
        "id": "3INdZAPNkMVE",
        "outputId": "c3fdb922-b372-4929-c5d4-9d7d1344105d"
      },
      "source": [
        "#making tensors with tf.variable and tf.constant\n",
        "changeable_tensor = tf.Variable([10,7])\n",
        "unchangeable_tensor = tf.constant([10,7])\n",
        "changeable_tensor, unchangeable_tensor\n"
      ],
      "execution_count": 13,
      "outputs": [
        {
          "output_type": "execute_result",
          "data": {
            "text/plain": [
              "(<tf.Variable 'Variable:0' shape=(2,) dtype=int32, numpy=array([10,  7], dtype=int32)>,\n",
              " <tf.Tensor: shape=(2,), dtype=int32, numpy=array([10,  7], dtype=int32)>)"
            ]
          },
          "metadata": {
            "tags": []
          },
          "execution_count": 13
        }
      ]
    },
    {
      "cell_type": "code",
      "metadata": {
        "colab": {
          "base_uri": "https://localhost:8080/"
        },
        "id": "Ccp1opmQlmEd",
        "outputId": "3a458160-0456-4483-ef7d-5cb8eef8fa02"
      },
      "source": [
        "#change an element in changeable tensor\n",
        "changeable_tensor[0].assign(7)\n",
        "changeable_tensor"
      ],
      "execution_count": 14,
      "outputs": [
        {
          "output_type": "execute_result",
          "data": {
            "text/plain": [
              "<tf.Variable 'Variable:0' shape=(2,) dtype=int32, numpy=array([7, 7], dtype=int32)>"
            ]
          },
          "metadata": {
            "tags": []
          },
          "execution_count": 14
        }
      ]
    },
    {
      "cell_type": "code",
      "metadata": {
        "id": "YDV4XIfGmFQa"
      },
      "source": [
        "#change an element in the tf.constant created tensor - hmmm lol\n",
        "#unchangeable_tensor[0].assign(7)\n",
        "#unchangeable_tensor"
      ],
      "execution_count": 15,
      "outputs": []
    },
    {
      "cell_type": "markdown",
      "metadata": {
        "id": "oV7jMsEEmZxe"
      },
      "source": [
        "Creating Random Tensors!"
      ]
    },
    {
      "cell_type": "code",
      "metadata": {
        "id": "4Lqav2yumrn1",
        "colab": {
          "base_uri": "https://localhost:8080/"
        },
        "outputId": "94062eae-3554-4778-fa05-7c5b4ce1d672"
      },
      "source": [
        "#arbitrary size with random numbers \n",
        "#used to initialize before learning\n",
        "\n",
        "#two random but the same sensors\n",
        "random_1 = tf.random.Generator.from_seed(42) #set seed for reproducibility\n",
        "random_1 = random_1.normal(shape=(3,2))\n",
        "random_1\n",
        "\n",
        "random_2 = tf.random.Generator.from_seed(43)\n",
        "random_2 = random_2.normal(shape=(3,2)) #normal distribution\n",
        "random_2\n",
        "\n",
        "random_1, random_2, random_1 == random_2 #equal? Not if I change the seed! So\n",
        "#we don't do lottery with pseudo random number generators\n"
      ],
      "execution_count": 16,
      "outputs": [
        {
          "output_type": "execute_result",
          "data": {
            "text/plain": [
              "(<tf.Tensor: shape=(3, 2), dtype=float32, numpy=\n",
              " array([[-0.7565803 , -0.06854702],\n",
              "        [ 0.07595026, -1.2573844 ],\n",
              "        [-0.23193765, -1.8107855 ]], dtype=float32)>,\n",
              " <tf.Tensor: shape=(3, 2), dtype=float32, numpy=\n",
              " array([[-0.23193765, -1.8107855 ],\n",
              "        [ 0.09988727, -0.50998646],\n",
              "        [-0.7535806 , -0.5716629 ]], dtype=float32)>,\n",
              " <tf.Tensor: shape=(3, 2), dtype=bool, numpy=\n",
              " array([[False, False],\n",
              "        [False, False],\n",
              "        [False, False]])>)"
            ]
          },
          "metadata": {
            "tags": []
          },
          "execution_count": 16
        }
      ]
    },
    {
      "cell_type": "code",
      "metadata": {
        "colab": {
          "base_uri": "https://localhost:8080/"
        },
        "id": "2oD1G1dJrJUy",
        "outputId": "137d772b-c1b9-46fd-e89c-7f3a2404e53e"
      },
      "source": [
        "#shuffle the order of elements in a tensor\n",
        "#e.g. we don't want the first 500 images of cats then the last 500 of dogs\n",
        "not_shuffled = tf.constant([[10,7],\n",
        "                            [3,4],\n",
        "                            [2,5]])\n",
        "not_shuffled\n",
        "\n",
        "\n"
      ],
      "execution_count": 17,
      "outputs": [
        {
          "output_type": "execute_result",
          "data": {
            "text/plain": [
              "<tf.Tensor: shape=(3, 2), dtype=int32, numpy=\n",
              "array([[10,  7],\n",
              "       [ 3,  4],\n",
              "       [ 2,  5]], dtype=int32)>"
            ]
          },
          "metadata": {
            "tags": []
          },
          "execution_count": 17
        }
      ]
    },
    {
      "cell_type": "code",
      "metadata": {
        "colab": {
          "base_uri": "https://localhost:8080/"
        },
        "id": "D7pR7QWOtFM6",
        "outputId": "1178aefe-5c45-44e9-d9f9-9a189530597d"
      },
      "source": [
        "#shuffle it now\n",
        "tf.random.shuffle(not_shuffled, seed=42)\n",
        "#or rather to avoid a mix up\n",
        "shuffled = tf.random.shuffle(not_shuffled, seed=42)\n",
        "shuffled"
      ],
      "execution_count": 18,
      "outputs": [
        {
          "output_type": "execute_result",
          "data": {
            "text/plain": [
              "<tf.Tensor: shape=(3, 2), dtype=int32, numpy=\n",
              "array([[ 2,  5],\n",
              "       [ 3,  4],\n",
              "       [10,  7]], dtype=int32)>"
            ]
          },
          "metadata": {
            "tags": []
          },
          "execution_count": 18
        }
      ]
    },
    {
      "cell_type": "markdown",
      "metadata": {
        "id": "n8BdoSOfu73R"
      },
      "source": [
        "Note now docs on random seed generation!"
      ]
    },
    {
      "cell_type": "code",
      "metadata": {
        "colab": {
          "base_uri": "https://localhost:8080/"
        },
        "id": "UecDuZ_9vHvZ",
        "outputId": "e11025c7-8041-4cb3-bd6e-e61af0c734b1"
      },
      "source": [
        "#if want shuffled tensors to be in the same order, use global level random seed\n",
        "#in addition to operation level random seed\n",
        "\n",
        "#tf.ones a tensor of all ones!\n",
        "tf.ones([10,7])"
      ],
      "execution_count": 19,
      "outputs": [
        {
          "output_type": "execute_result",
          "data": {
            "text/plain": [
              "<tf.Tensor: shape=(10, 7), dtype=float32, numpy=\n",
              "array([[1., 1., 1., 1., 1., 1., 1.],\n",
              "       [1., 1., 1., 1., 1., 1., 1.],\n",
              "       [1., 1., 1., 1., 1., 1., 1.],\n",
              "       [1., 1., 1., 1., 1., 1., 1.],\n",
              "       [1., 1., 1., 1., 1., 1., 1.],\n",
              "       [1., 1., 1., 1., 1., 1., 1.],\n",
              "       [1., 1., 1., 1., 1., 1., 1.],\n",
              "       [1., 1., 1., 1., 1., 1., 1.],\n",
              "       [1., 1., 1., 1., 1., 1., 1.],\n",
              "       [1., 1., 1., 1., 1., 1., 1.]], dtype=float32)>"
            ]
          },
          "metadata": {
            "tags": []
          },
          "execution_count": 19
        }
      ]
    },
    {
      "cell_type": "code",
      "metadata": {
        "colab": {
          "base_uri": "https://localhost:8080/"
        },
        "id": "MGaPRyr8v_AQ",
        "outputId": "f4bbc336-2da7-4773-cfc4-d7cd91a5031a"
      },
      "source": [
        "tf.zeros(shape=(3,4)) #tensor is all zeros"
      ],
      "execution_count": 20,
      "outputs": [
        {
          "output_type": "execute_result",
          "data": {
            "text/plain": [
              "<tf.Tensor: shape=(3, 4), dtype=float32, numpy=\n",
              "array([[0., 0., 0., 0.],\n",
              "       [0., 0., 0., 0.],\n",
              "       [0., 0., 0., 0.]], dtype=float32)>"
            ]
          },
          "metadata": {
            "tags": []
          },
          "execution_count": 20
        }
      ]
    },
    {
      "cell_type": "code",
      "metadata": {
        "colab": {
          "base_uri": "https://localhost:8080/"
        },
        "id": "GGrsvrawwV1l",
        "outputId": "321aad85-8a25-4711-e01a-0b254bf8d5b9"
      },
      "source": [
        "#Turn teh NumPy arrays into tensors! Tensors we can run much faster\n",
        "import numpy as np\n",
        "numpy_A = np.arange(1, 25, dtype=np.int32) #numpy array range 1-25, int32\n",
        "print(numpy_A)\n",
        "# note X = tf.constant(some_matrix)\n",
        "# and lower case for vectors y = tf.constant(some_vector)\n",
        "\n",
        "A = tf.constant(numpy_A)\n",
        "A\n",
        "\n",
        "# change dimensions for the tensor that we converted the numpy array into\n",
        "\n",
        "B = tf.constant(numpy_A, shape=(2,3,4)) # so 3 dimensions now\n",
        "B\n",
        "\n",
        "# 2,3,4 shape is fine since we had 24 elements in our array i.e. 2*3*4=24\n",
        "# but we can't have dimensions which don't match the number of elements so e.g. \n",
        "# 3,8 shape is fine too etc."
      ],
      "execution_count": 21,
      "outputs": [
        {
          "output_type": "stream",
          "text": [
            "[ 1  2  3  4  5  6  7  8  9 10 11 12 13 14 15 16 17 18 19 20 21 22 23 24]\n"
          ],
          "name": "stdout"
        },
        {
          "output_type": "execute_result",
          "data": {
            "text/plain": [
              "<tf.Tensor: shape=(2, 3, 4), dtype=int32, numpy=\n",
              "array([[[ 1,  2,  3,  4],\n",
              "        [ 5,  6,  7,  8],\n",
              "        [ 9, 10, 11, 12]],\n",
              "\n",
              "       [[13, 14, 15, 16],\n",
              "        [17, 18, 19, 20],\n",
              "        [21, 22, 23, 24]]], dtype=int32)>"
            ]
          },
          "metadata": {
            "tags": []
          },
          "execution_count": 21
        }
      ]
    },
    {
      "cell_type": "markdown",
      "metadata": {
        "id": "-qbNEjo9zKmh"
      },
      "source": [
        "Getting information from Tensors\n"
      ]
    },
    {
      "cell_type": "code",
      "metadata": {
        "colab": {
          "base_uri": "https://localhost:8080/"
        },
        "id": "DNx-urCNzSlc",
        "outputId": "f8564692-6514-45fb-a9a7-155c690fe810"
      },
      "source": [
        "# Shape = length (number elements) of each of dimensions of a tensor\n",
        "# Rank = scalar rank=0, vector rank=1, matrix rank=2, tensor rank=n  \n",
        "# Dimension or axis = a particular dimension\n",
        "# size = total number items in the tensor\n",
        "\n",
        "#create 4 dimensional tensor\n",
        "rank_4_tensor = tf.zeros(shape=[2,3,4,5])\n",
        "rank_4_tensor\n"
      ],
      "execution_count": 22,
      "outputs": [
        {
          "output_type": "execute_result",
          "data": {
            "text/plain": [
              "<tf.Tensor: shape=(2, 3, 4, 5), dtype=float32, numpy=\n",
              "array([[[[0., 0., 0., 0., 0.],\n",
              "         [0., 0., 0., 0., 0.],\n",
              "         [0., 0., 0., 0., 0.],\n",
              "         [0., 0., 0., 0., 0.]],\n",
              "\n",
              "        [[0., 0., 0., 0., 0.],\n",
              "         [0., 0., 0., 0., 0.],\n",
              "         [0., 0., 0., 0., 0.],\n",
              "         [0., 0., 0., 0., 0.]],\n",
              "\n",
              "        [[0., 0., 0., 0., 0.],\n",
              "         [0., 0., 0., 0., 0.],\n",
              "         [0., 0., 0., 0., 0.],\n",
              "         [0., 0., 0., 0., 0.]]],\n",
              "\n",
              "\n",
              "       [[[0., 0., 0., 0., 0.],\n",
              "         [0., 0., 0., 0., 0.],\n",
              "         [0., 0., 0., 0., 0.],\n",
              "         [0., 0., 0., 0., 0.]],\n",
              "\n",
              "        [[0., 0., 0., 0., 0.],\n",
              "         [0., 0., 0., 0., 0.],\n",
              "         [0., 0., 0., 0., 0.],\n",
              "         [0., 0., 0., 0., 0.]],\n",
              "\n",
              "        [[0., 0., 0., 0., 0.],\n",
              "         [0., 0., 0., 0., 0.],\n",
              "         [0., 0., 0., 0., 0.],\n",
              "         [0., 0., 0., 0., 0.]]]], dtype=float32)>"
            ]
          },
          "metadata": {
            "tags": []
          },
          "execution_count": 22
        }
      ]
    },
    {
      "cell_type": "code",
      "metadata": {
        "colab": {
          "base_uri": "https://localhost:8080/"
        },
        "id": "fhvnD7wA1c58",
        "outputId": "bd0392d2-7e4c-4bf1-9df5-11c8392cce22"
      },
      "source": [
        "rank_4_tensor[1]"
      ],
      "execution_count": 23,
      "outputs": [
        {
          "output_type": "execute_result",
          "data": {
            "text/plain": [
              "<tf.Tensor: shape=(3, 4, 5), dtype=float32, numpy=\n",
              "array([[[0., 0., 0., 0., 0.],\n",
              "        [0., 0., 0., 0., 0.],\n",
              "        [0., 0., 0., 0., 0.],\n",
              "        [0., 0., 0., 0., 0.]],\n",
              "\n",
              "       [[0., 0., 0., 0., 0.],\n",
              "        [0., 0., 0., 0., 0.],\n",
              "        [0., 0., 0., 0., 0.],\n",
              "        [0., 0., 0., 0., 0.]],\n",
              "\n",
              "       [[0., 0., 0., 0., 0.],\n",
              "        [0., 0., 0., 0., 0.],\n",
              "        [0., 0., 0., 0., 0.],\n",
              "        [0., 0., 0., 0., 0.]]], dtype=float32)>"
            ]
          },
          "metadata": {
            "tags": []
          },
          "execution_count": 23
        }
      ]
    },
    {
      "cell_type": "code",
      "metadata": {
        "colab": {
          "base_uri": "https://localhost:8080/"
        },
        "id": "ANMKSKA-1ye1",
        "outputId": "27abd123-8df4-4c44-e4d1-d86619431bca"
      },
      "source": [
        "rank_4_tensor.shape, rank_4_tensor.ndim, tf.size(rank_4_tensor)"
      ],
      "execution_count": 24,
      "outputs": [
        {
          "output_type": "execute_result",
          "data": {
            "text/plain": [
              "(TensorShape([2, 3, 4, 5]), 4, <tf.Tensor: shape=(), dtype=int32, numpy=120>)"
            ]
          },
          "metadata": {
            "tags": []
          },
          "execution_count": 24
        }
      ]
    },
    {
      "cell_type": "code",
      "metadata": {
        "colab": {
          "base_uri": "https://localhost:8080/"
        },
        "id": "Fa04P-1l2cIq",
        "outputId": "acbb5886-db70-451c-a3b4-c117c0bb7987"
      },
      "source": [
        "#get various attributes of tensor\n",
        "print('Datatype of every element: ', rank_4_tensor.dtype)\n",
        "print('Number of dimensions: ', rank_4_tensor.ndim)\n",
        "print('Shape of tensor: ', rank_4_tensor.shape)\n",
        "print('Elements along the 0 axis: ', rank_4_tensor.shape[0])\n",
        "print('Elements along the last axis: ', rank_4_tensor.shape[-1])\n",
        "print('Total number of elements: ', tf.size(rank_4_tensor))\n",
        "print('Total number of elements: ', tf.size(rank_4_tensor).numpy())"
      ],
      "execution_count": 25,
      "outputs": [
        {
          "output_type": "stream",
          "text": [
            "Datatype of every element:  <dtype: 'float32'>\n",
            "Number of dimensions:  4\n",
            "Shape of tensor:  (2, 3, 4, 5)\n",
            "Elements along the 0 axis:  2\n",
            "Elements along the last axis:  5\n",
            "Total number of elements:  tf.Tensor(120, shape=(), dtype=int32)\n",
            "Total number of elements:  120\n"
          ],
          "name": "stdout"
        }
      ]
    },
    {
      "cell_type": "markdown",
      "metadata": {
        "id": "aZIs7NgA-CbF"
      },
      "source": [
        "Indexing tensors just like lists\n"
      ]
    },
    {
      "cell_type": "code",
      "metadata": {
        "colab": {
          "base_uri": "https://localhost:8080/"
        },
        "id": "3juDj0-L94NK",
        "outputId": "149f8b4a-eb79-4c14-fcb5-a88f3155d33e"
      },
      "source": [
        "# get first 2 elements from each dimension \n",
        "rank_4_tensor[:2,:2,:2,:2]\n"
      ],
      "execution_count": 26,
      "outputs": [
        {
          "output_type": "execute_result",
          "data": {
            "text/plain": [
              "<tf.Tensor: shape=(2, 2, 2, 2), dtype=float32, numpy=\n",
              "array([[[[0., 0.],\n",
              "         [0., 0.]],\n",
              "\n",
              "        [[0., 0.],\n",
              "         [0., 0.]]],\n",
              "\n",
              "\n",
              "       [[[0., 0.],\n",
              "         [0., 0.]],\n",
              "\n",
              "        [[0., 0.],\n",
              "         [0., 0.]]]], dtype=float32)>"
            ]
          },
          "metadata": {
            "tags": []
          },
          "execution_count": 26
        }
      ]
    },
    {
      "cell_type": "code",
      "metadata": {
        "colab": {
          "base_uri": "https://localhost:8080/"
        },
        "id": "tGwdprpl-tz7",
        "outputId": "5ba5b205-275e-4048-ffaf-6af5d3cb53fc"
      },
      "source": [
        "#get first element from each dimension except 4th dimension\n",
        "rank_4_tensor[:1,:1,:1]"
      ],
      "execution_count": 27,
      "outputs": [
        {
          "output_type": "execute_result",
          "data": {
            "text/plain": [
              "<tf.Tensor: shape=(1, 1, 1, 5), dtype=float32, numpy=array([[[[0., 0., 0., 0., 0.]]]], dtype=float32)>"
            ]
          },
          "metadata": {
            "tags": []
          },
          "execution_count": 27
        }
      ]
    },
    {
      "cell_type": "code",
      "metadata": {
        "colab": {
          "base_uri": "https://localhost:8080/"
        },
        "id": "1Tb56HWh_N2P",
        "outputId": "269b8300-27d0-401d-fd59-970fcf8cb415"
      },
      "source": [
        "#first elements from each dimension except 3rd dimension\n",
        "rank_4_tensor[:1,:1,:,:1]"
      ],
      "execution_count": 28,
      "outputs": [
        {
          "output_type": "execute_result",
          "data": {
            "text/plain": [
              "<tf.Tensor: shape=(1, 1, 4, 1), dtype=float32, numpy=\n",
              "array([[[[0.],\n",
              "         [0.],\n",
              "         [0.],\n",
              "         [0.]]]], dtype=float32)>"
            ]
          },
          "metadata": {
            "tags": []
          },
          "execution_count": 28
        }
      ]
    },
    {
      "cell_type": "code",
      "metadata": {
        "colab": {
          "base_uri": "https://localhost:8080/"
        },
        "id": "QM5NY-xK_mnC",
        "outputId": "75c8e3a1-351f-4149-9636-6eb2a62e8459"
      },
      "source": [
        "#add an extra dimension to the end of a tensor\n",
        "#create a rank 2 tensor\n",
        "rank_2_tensor = tf.constant([[10,7],\n",
        "                             [3,4]])\n",
        "rank_2_tensor.shape, rank_2_tensor.ndim\n",
        "\n",
        "#get last elements\n",
        "rank_2_tensor[:, -1]\n",
        "\n",
        "#now add extra dimension with tf.new axis method\n",
        "rank_3_tensor = rank_2_tensor[..., tf.newaxis] #... is every axis before the new one\n",
        "rank_3_tensor"
      ],
      "execution_count": 29,
      "outputs": [
        {
          "output_type": "execute_result",
          "data": {
            "text/plain": [
              "<tf.Tensor: shape=(2, 2, 1), dtype=int32, numpy=\n",
              "array([[[10],\n",
              "        [ 7]],\n",
              "\n",
              "       [[ 3],\n",
              "        [ 4]]], dtype=int32)>"
            ]
          },
          "metadata": {
            "tags": []
          },
          "execution_count": 29
        }
      ]
    },
    {
      "cell_type": "code",
      "metadata": {
        "colab": {
          "base_uri": "https://localhost:8080/"
        },
        "id": "sfdtQF37Bb_p",
        "outputId": "15405c46-4489-459d-a881-120a9778a67a"
      },
      "source": [
        "# or alternative is expand_dims\n",
        "tf.expand_dims(rank_2_tensor, axis=-1) #-1 being expand the final axis\n"
      ],
      "execution_count": 30,
      "outputs": [
        {
          "output_type": "execute_result",
          "data": {
            "text/plain": [
              "<tf.Tensor: shape=(2, 2, 1), dtype=int32, numpy=\n",
              "array([[[10],\n",
              "        [ 7]],\n",
              "\n",
              "       [[ 3],\n",
              "        [ 4]]], dtype=int32)>"
            ]
          },
          "metadata": {
            "tags": []
          },
          "execution_count": 30
        }
      ]
    },
    {
      "cell_type": "code",
      "metadata": {
        "colab": {
          "base_uri": "https://localhost:8080/"
        },
        "id": "YJm7gUjLCKSV",
        "outputId": "42a5351e-f8c6-4b67-ae28-873b575766f3"
      },
      "source": [
        "# expand the zero axis\n",
        "tf.expand_dims(rank_2_tensor, axis=0)"
      ],
      "execution_count": 31,
      "outputs": [
        {
          "output_type": "execute_result",
          "data": {
            "text/plain": [
              "<tf.Tensor: shape=(1, 2, 2), dtype=int32, numpy=\n",
              "array([[[10,  7],\n",
              "        [ 3,  4]]], dtype=int32)>"
            ]
          },
          "metadata": {
            "tags": []
          },
          "execution_count": 31
        }
      ]
    },
    {
      "cell_type": "markdown",
      "metadata": {
        "id": "eqYjjwRWINxE"
      },
      "source": [
        "Manipulating tensors (tensor operations)\n"
      ]
    },
    {
      "cell_type": "code",
      "metadata": {
        "colab": {
          "base_uri": "https://localhost:8080/"
        },
        "id": "HH4rL9LxEexy",
        "outputId": "49bf31f1-e6c2-4049-e419-94d5302aed0d"
      },
      "source": [
        "#basic operations + - * / elementwise operations\n",
        "\n",
        "# add values to a tensor using addition operator\n",
        "\n",
        "tensor = tf.constant([[10,7],\n",
        "                      [3,4]])\n",
        "tensor + 10 # remember original tensor is not changed tho"
      ],
      "execution_count": 32,
      "outputs": [
        {
          "output_type": "execute_result",
          "data": {
            "text/plain": [
              "<tf.Tensor: shape=(2, 2), dtype=int32, numpy=\n",
              "array([[20, 17],\n",
              "       [13, 14]], dtype=int32)>"
            ]
          },
          "metadata": {
            "tags": []
          },
          "execution_count": 32
        }
      ]
    },
    {
      "cell_type": "code",
      "metadata": {
        "colab": {
          "base_uri": "https://localhost:8080/"
        },
        "id": "tJs1vDUOI4rV",
        "outputId": "4d6e6900-ef99-457c-9339-bca42f915e25"
      },
      "source": [
        "#Multiply\n",
        "tensor * 10"
      ],
      "execution_count": 33,
      "outputs": [
        {
          "output_type": "execute_result",
          "data": {
            "text/plain": [
              "<tf.Tensor: shape=(2, 2), dtype=int32, numpy=\n",
              "array([[100,  70],\n",
              "       [ 30,  40]], dtype=int32)>"
            ]
          },
          "metadata": {
            "tags": []
          },
          "execution_count": 33
        }
      ]
    },
    {
      "cell_type": "code",
      "metadata": {
        "colab": {
          "base_uri": "https://localhost:8080/"
        },
        "id": "bwTy5FCaI8eM",
        "outputId": "c15e7a52-d9f9-4982-ecc2-235f00b687fe"
      },
      "source": [
        "#Subract\n",
        "tensor - 2"
      ],
      "execution_count": 34,
      "outputs": [
        {
          "output_type": "execute_result",
          "data": {
            "text/plain": [
              "<tf.Tensor: shape=(2, 2), dtype=int32, numpy=\n",
              "array([[8, 5],\n",
              "       [1, 2]], dtype=int32)>"
            ]
          },
          "metadata": {
            "tags": []
          },
          "execution_count": 34
        }
      ]
    },
    {
      "cell_type": "code",
      "metadata": {
        "colab": {
          "base_uri": "https://localhost:8080/"
        },
        "id": "4FvX1mGKJBR8",
        "outputId": "e1a099c3-812e-4e5d-d1e4-60293dc92f85"
      },
      "source": [
        "# use the tensorflow built-in function too tf.math.x stick we these instead of python ones FASTER\n",
        "tf.multiply(tensor, 10)"
      ],
      "execution_count": 35,
      "outputs": [
        {
          "output_type": "execute_result",
          "data": {
            "text/plain": [
              "<tf.Tensor: shape=(2, 2), dtype=int32, numpy=\n",
              "array([[100,  70],\n",
              "       [ 30,  40]], dtype=int32)>"
            ]
          },
          "metadata": {
            "tags": []
          },
          "execution_count": 35
        }
      ]
    },
    {
      "cell_type": "code",
      "metadata": {
        "colab": {
          "base_uri": "https://localhost:8080/"
        },
        "id": "WYoZxb4AJKlL",
        "outputId": "8fa25343-2ed1-4aa4-a927-351130d3ad8e"
      },
      "source": [
        "tf.add(tensor,10)"
      ],
      "execution_count": 36,
      "outputs": [
        {
          "output_type": "execute_result",
          "data": {
            "text/plain": [
              "<tf.Tensor: shape=(2, 2), dtype=int32, numpy=\n",
              "array([[20, 17],\n",
              "       [13, 14]], dtype=int32)>"
            ]
          },
          "metadata": {
            "tags": []
          },
          "execution_count": 36
        }
      ]
    },
    {
      "cell_type": "code",
      "metadata": {
        "colab": {
          "base_uri": "https://localhost:8080/"
        },
        "id": "keUluyecJi46",
        "outputId": "776b088c-406f-4b1c-ddeb-fdd7dd91a44b"
      },
      "source": [
        "tf.subtract(tensor, 2)"
      ],
      "execution_count": 37,
      "outputs": [
        {
          "output_type": "execute_result",
          "data": {
            "text/plain": [
              "<tf.Tensor: shape=(2, 2), dtype=int32, numpy=\n",
              "array([[8, 5],\n",
              "       [1, 2]], dtype=int32)>"
            ]
          },
          "metadata": {
            "tags": []
          },
          "execution_count": 37
        }
      ]
    },
    {
      "cell_type": "markdown",
      "metadata": {
        "id": "cCO6tc44Jq2S"
      },
      "source": [
        "MATRIX MULTIPLICATION - one of most common tensor operations! "
      ]
    },
    {
      "cell_type": "code",
      "metadata": {
        "colab": {
          "base_uri": "https://localhost:8080/"
        },
        "id": "94IWjxW7Jy8j",
        "outputId": "96c233b7-cf5d-4da2-c641-283b0c796282"
      },
      "source": [
        "#to multiply a matrix by another matrix we need to the do DOT PRODUCT of\n",
        "#rows and columns\n",
        "#DOT PRODUCT is where we multiply matching numbers, then sum up see matrixmultiplication.xyz\n",
        "#for some demos\n",
        "\n",
        "tf.matmul(tensor,tensor)"
      ],
      "execution_count": 38,
      "outputs": [
        {
          "output_type": "execute_result",
          "data": {
            "text/plain": [
              "<tf.Tensor: shape=(2, 2), dtype=int32, numpy=\n",
              "array([[121,  98],\n",
              "       [ 42,  37]], dtype=int32)>"
            ]
          },
          "metadata": {
            "tags": []
          },
          "execution_count": 38
        }
      ]
    },
    {
      "cell_type": "code",
      "metadata": {
        "colab": {
          "base_uri": "https://localhost:8080/"
        },
        "id": "RFSEmMFrL37i",
        "outputId": "e9cc9afb-b796-404a-9a3b-c501ea66d06c"
      },
      "source": [
        "#matrix multiplication with python operator @\n",
        "tensor @ tensor"
      ],
      "execution_count": 39,
      "outputs": [
        {
          "output_type": "execute_result",
          "data": {
            "text/plain": [
              "<tf.Tensor: shape=(2, 2), dtype=int32, numpy=\n",
              "array([[121,  98],\n",
              "       [ 42,  37]], dtype=int32)>"
            ]
          },
          "metadata": {
            "tags": []
          },
          "execution_count": 39
        }
      ]
    },
    {
      "cell_type": "code",
      "metadata": {
        "colab": {
          "base_uri": "https://localhost:8080/"
        },
        "id": "8M2-H-iXMdGR",
        "outputId": "618507b9-0455-40be-ef47-6785b17e945b"
      },
      "source": [
        "tensor_1 = tf.constant([[10,7],\n",
        "                        [3,4],\n",
        "                        [6,3]])\n",
        "tensor_2 = tf.constant([[10,7],\n",
        "                        [3,4]])\n",
        "tf.matmul(tensor_1, tensor_2) #multiply some different shaped tensors"
      ],
      "execution_count": 40,
      "outputs": [
        {
          "output_type": "execute_result",
          "data": {
            "text/plain": [
              "<tf.Tensor: shape=(3, 2), dtype=int32, numpy=\n",
              "array([[121,  98],\n",
              "       [ 42,  37],\n",
              "       [ 69,  54]], dtype=int32)>"
            ]
          },
          "metadata": {
            "tags": []
          },
          "execution_count": 40
        }
      ]
    },
    {
      "cell_type": "code",
      "metadata": {
        "colab": {
          "base_uri": "https://localhost:8080/"
        },
        "id": "iEQbijO2ODHQ",
        "outputId": "ef533427-556e-4bb1-92b5-e8ef31f58202"
      },
      "source": [
        "tensor_1.shape, tensor_2.shape #see these are different shapes"
      ],
      "execution_count": 41,
      "outputs": [
        {
          "output_type": "execute_result",
          "data": {
            "text/plain": [
              "(TensorShape([3, 2]), TensorShape([2, 2]))"
            ]
          },
          "metadata": {
            "tags": []
          },
          "execution_count": 41
        }
      ]
    },
    {
      "cell_type": "code",
      "metadata": {
        "colab": {
          "base_uri": "https://localhost:8080/"
        },
        "id": "AIbrXuYPO3YM",
        "outputId": "3535e1d0-289a-4e0c-8be3-5929d342e2da"
      },
      "source": [
        "#what about these? These are the SAME shape\n",
        "X = tf.constant([[1,2],\n",
        "                 [3,4],\n",
        "                 [5,6]])\n",
        "Y = tf.constant([[7,8],\n",
        "                 [9,10],\n",
        "                 [11,12]])\n",
        "X,Y"
      ],
      "execution_count": 42,
      "outputs": [
        {
          "output_type": "execute_result",
          "data": {
            "text/plain": [
              "(<tf.Tensor: shape=(3, 2), dtype=int32, numpy=\n",
              " array([[1, 2],\n",
              "        [3, 4],\n",
              "        [5, 6]], dtype=int32)>, <tf.Tensor: shape=(3, 2), dtype=int32, numpy=\n",
              " array([[ 7,  8],\n",
              "        [ 9, 10],\n",
              "        [11, 12]], dtype=int32)>)"
            ]
          },
          "metadata": {
            "tags": []
          },
          "execution_count": 42
        }
      ]
    },
    {
      "cell_type": "code",
      "metadata": {
        "id": "t0v3WIobPP5d"
      },
      "source": [
        "#tf.matmul(X,Y) #can they be multiplied?\n"
      ],
      "execution_count": 43,
      "outputs": []
    },
    {
      "cell_type": "code",
      "metadata": {
        "id": "zJet3dX-P_E0"
      },
      "source": [
        "#Rules\n",
        "#1. Inner dimensions must match\n",
        "#2. Resulting matrix has the shape of the outer dimensions\n",
        "\n"
      ],
      "execution_count": 44,
      "outputs": []
    },
    {
      "cell_type": "code",
      "metadata": {
        "colab": {
          "base_uri": "https://localhost:8080/"
        },
        "id": "13B08BS7RCAV",
        "outputId": "c7285b63-2b9c-4e38-e5cf-1e50b6e13be1"
      },
      "source": [
        "#what about these? Inner dimensions are match right\n",
        "X1 = tf.constant([[1,2,3],\n",
        "                 [3,4,5],\n",
        "                 [5,6,7]])\n",
        "Y1 = tf.constant([[7,8],\n",
        "                 [9,10],\n",
        "                 [11,12]])\n",
        "X1,Y1"
      ],
      "execution_count": 45,
      "outputs": [
        {
          "output_type": "execute_result",
          "data": {
            "text/plain": [
              "(<tf.Tensor: shape=(3, 3), dtype=int32, numpy=\n",
              " array([[1, 2, 3],\n",
              "        [3, 4, 5],\n",
              "        [5, 6, 7]], dtype=int32)>,\n",
              " <tf.Tensor: shape=(3, 2), dtype=int32, numpy=\n",
              " array([[ 7,  8],\n",
              "        [ 9, 10],\n",
              "        [11, 12]], dtype=int32)>)"
            ]
          },
          "metadata": {
            "tags": []
          },
          "execution_count": 45
        }
      ]
    },
    {
      "cell_type": "code",
      "metadata": {
        "colab": {
          "base_uri": "https://localhost:8080/"
        },
        "id": "HhYwOv6iRR3l",
        "outputId": "fdbcb27f-eaa8-4d8d-c1cf-9a2c548a1305"
      },
      "source": [
        "tf.matmul(X1,Y1)"
      ],
      "execution_count": 46,
      "outputs": [
        {
          "output_type": "execute_result",
          "data": {
            "text/plain": [
              "<tf.Tensor: shape=(3, 2), dtype=int32, numpy=\n",
              "array([[ 58,  64],\n",
              "       [112, 124],\n",
              "       [166, 184]], dtype=int32)>"
            ]
          },
          "metadata": {
            "tags": []
          },
          "execution_count": 46
        }
      ]
    },
    {
      "cell_type": "code",
      "metadata": {
        "colab": {
          "base_uri": "https://localhost:8080/"
        },
        "id": "N2feI61LnqxD",
        "outputId": "ad68b3ee-42f1-4595-c003-54f9e191d8bb"
      },
      "source": [
        "#Lets do a reshape of the other ones Y and X here's there shape now\n",
        "#So here they are right now 3,2 and 3,2\n",
        "X,Y\n"
      ],
      "execution_count": 47,
      "outputs": [
        {
          "output_type": "execute_result",
          "data": {
            "text/plain": [
              "(<tf.Tensor: shape=(3, 2), dtype=int32, numpy=\n",
              " array([[1, 2],\n",
              "        [3, 4],\n",
              "        [5, 6]], dtype=int32)>, <tf.Tensor: shape=(3, 2), dtype=int32, numpy=\n",
              " array([[ 7,  8],\n",
              "        [ 9, 10],\n",
              "        [11, 12]], dtype=int32)>)"
            ]
          },
          "metadata": {
            "tags": []
          },
          "execution_count": 47
        }
      ]
    },
    {
      "cell_type": "code",
      "metadata": {
        "colab": {
          "base_uri": "https://localhost:8080/"
        },
        "id": "z_d_o0GBoTQT",
        "outputId": "e25e72f4-2fdd-45d4-8673-aca43bcf714a"
      },
      "source": [
        "#Lets reshape Y to 2,3\n",
        "Y = tf.reshape(Y, shape=(2,3))\n",
        "print(Y)"
      ],
      "execution_count": 48,
      "outputs": [
        {
          "output_type": "stream",
          "text": [
            "tf.Tensor(\n",
            "[[ 7  8  9]\n",
            " [10 11 12]], shape=(2, 3), dtype=int32)\n"
          ],
          "name": "stdout"
        }
      ]
    },
    {
      "cell_type": "code",
      "metadata": {
        "colab": {
          "base_uri": "https://localhost:8080/"
        },
        "id": "IoJNDAQxo8yz",
        "outputId": "e89030a0-7997-485b-ba67-b11b669fe203"
      },
      "source": [
        "#So do the inner dimensions match now?\n",
        "X,Y"
      ],
      "execution_count": 49,
      "outputs": [
        {
          "output_type": "execute_result",
          "data": {
            "text/plain": [
              "(<tf.Tensor: shape=(3, 2), dtype=int32, numpy=\n",
              " array([[1, 2],\n",
              "        [3, 4],\n",
              "        [5, 6]], dtype=int32)>, <tf.Tensor: shape=(2, 3), dtype=int32, numpy=\n",
              " array([[ 7,  8,  9],\n",
              "        [10, 11, 12]], dtype=int32)>)"
            ]
          },
          "metadata": {
            "tags": []
          },
          "execution_count": 49
        }
      ]
    },
    {
      "cell_type": "code",
      "metadata": {
        "id": "d4BgJYtRolvw",
        "colab": {
          "base_uri": "https://localhost:8080/"
        },
        "outputId": "1069a94c-c2e8-41a2-e8fb-4396c10ad89e"
      },
      "source": [
        "tf.matmul(X,Y)"
      ],
      "execution_count": 50,
      "outputs": [
        {
          "output_type": "execute_result",
          "data": {
            "text/plain": [
              "<tf.Tensor: shape=(3, 3), dtype=int32, numpy=\n",
              "array([[ 27,  30,  33],\n",
              "       [ 61,  68,  75],\n",
              "       [ 95, 106, 117]], dtype=int32)>"
            ]
          },
          "metadata": {
            "tags": []
          },
          "execution_count": 50
        }
      ]
    },
    {
      "cell_type": "code",
      "metadata": {
        "id": "21KpxDt1psqf",
        "colab": {
          "base_uri": "https://localhost:8080/"
        },
        "outputId": "9583a5d3-8a1c-4a37-d587-c205ff056d96"
      },
      "source": [
        "# Can do the same with transpose see what is the difference!\n",
        "tf.transpose(X), tf.reshape(X, shape=(2,3))"
      ],
      "execution_count": 51,
      "outputs": [
        {
          "output_type": "execute_result",
          "data": {
            "text/plain": [
              "(<tf.Tensor: shape=(2, 3), dtype=int32, numpy=\n",
              " array([[1, 3, 5],\n",
              "        [2, 4, 6]], dtype=int32)>,\n",
              " <tf.Tensor: shape=(2, 3), dtype=int32, numpy=\n",
              " array([[1, 2, 3],\n",
              "        [4, 5, 6]], dtype=int32)>)"
            ]
          },
          "metadata": {
            "tags": []
          },
          "execution_count": 51
        }
      ]
    },
    {
      "cell_type": "markdown",
      "metadata": {
        "id": "7__-BcPkrO_X"
      },
      "source": [
        "You can perform matrix multiplication with \n",
        "1. tf.matmul()\n",
        "2. tf.tensordot()"
      ]
    },
    {
      "cell_type": "code",
      "metadata": {
        "id": "PJ8mELISrCe5",
        "colab": {
          "base_uri": "https://localhost:8080/"
        },
        "outputId": "865510a7-89fd-470f-8012-633b6bd9e3ee"
      },
      "source": [
        "# Perform dot product on X and Y (requires X and Y to be transposed)\n",
        "# Here are the tensors again\n",
        "X = tf.constant([[1,2],\n",
        "                 [3,4],\n",
        "                 [5,6]])\n",
        "Y = tf.constant([[7,8],\n",
        "                 [9,10],\n",
        "                 [11,12]])\n",
        "\n",
        "tf.transpose(X)"
      ],
      "execution_count": 52,
      "outputs": [
        {
          "output_type": "execute_result",
          "data": {
            "text/plain": [
              "<tf.Tensor: shape=(2, 3), dtype=int32, numpy=\n",
              "array([[1, 3, 5],\n",
              "       [2, 4, 6]], dtype=int32)>"
            ]
          },
          "metadata": {
            "tags": []
          },
          "execution_count": 52
        }
      ]
    },
    {
      "cell_type": "code",
      "metadata": {
        "id": "AwEMiXpdsXhX",
        "colab": {
          "base_uri": "https://localhost:8080/"
        },
        "outputId": "ae4abfbd-b7f7-485d-d5a4-2dd797fd4629"
      },
      "source": [
        "#so multiply these \n",
        "tf.tensordot(tf.transpose(X),Y, axes=1)\n",
        "\n",
        "\n",
        "## [1 3 5] * [7 8]    = [89 98]\n",
        "## [2 4 6]   [9 10]     [116 128]\n",
        "##    X      [11 12]"
      ],
      "execution_count": 53,
      "outputs": [
        {
          "output_type": "execute_result",
          "data": {
            "text/plain": [
              "<tf.Tensor: shape=(2, 2), dtype=int32, numpy=\n",
              "array([[ 89,  98],\n",
              "       [116, 128]], dtype=int32)>"
            ]
          },
          "metadata": {
            "tags": []
          },
          "execution_count": 53
        }
      ]
    },
    {
      "cell_type": "code",
      "metadata": {
        "id": "dx1dUAHftIJI",
        "colab": {
          "base_uri": "https://localhost:8080/"
        },
        "outputId": "e76a5a6a-2406-499a-c481-a6b29d8bd674"
      },
      "source": [
        "# Matrix multplication between X and Y with Y transposed this time\n",
        "tf.matmul(X, tf.transpose(Y))\n",
        " "
      ],
      "execution_count": 54,
      "outputs": [
        {
          "output_type": "execute_result",
          "data": {
            "text/plain": [
              "<tf.Tensor: shape=(3, 3), dtype=int32, numpy=\n",
              "array([[ 23,  29,  35],\n",
              "       [ 53,  67,  81],\n",
              "       [ 83, 105, 127]], dtype=int32)>"
            ]
          },
          "metadata": {
            "tags": []
          },
          "execution_count": 54
        }
      ]
    },
    {
      "cell_type": "code",
      "metadata": {
        "id": "xTzQF5svt7lH",
        "colab": {
          "base_uri": "https://localhost:8080/"
        },
        "outputId": "fe71d55a-e563-4435-b1cf-3f5a5a67661c"
      },
      "source": [
        "# So above we are going to do X*Y with\n",
        "X,tf.transpose(Y)\n",
        "\n",
        "# So like this\n",
        "#\n",
        "# [1 2] * [7 9 11]  = [ 23 29 35]\n",
        "# [3 4]   [8,10,12]   [ 53 67 81]\n",
        "# [5 6]               [ 83 105 127]"
      ],
      "execution_count": 55,
      "outputs": [
        {
          "output_type": "execute_result",
          "data": {
            "text/plain": [
              "(<tf.Tensor: shape=(3, 2), dtype=int32, numpy=\n",
              " array([[1, 2],\n",
              "        [3, 4],\n",
              "        [5, 6]], dtype=int32)>, <tf.Tensor: shape=(2, 3), dtype=int32, numpy=\n",
              " array([[ 7,  9, 11],\n",
              "        [ 8, 10, 12]], dtype=int32)>)"
            ]
          },
          "metadata": {
            "tags": []
          },
          "execution_count": 55
        }
      ]
    },
    {
      "cell_type": "code",
      "metadata": {
        "id": "BHPnU5gFtZI7",
        "colab": {
          "base_uri": "https://localhost:8080/"
        },
        "outputId": "4ae11f54-5c14-4b8d-c029-b4b02191c630"
      },
      "source": [
        "# Now again, but Y is reshaped instead of transposed\n",
        "tf.matmul(X, tf.reshape(Y, shape=(2,3)))"
      ],
      "execution_count": 56,
      "outputs": [
        {
          "output_type": "execute_result",
          "data": {
            "text/plain": [
              "<tf.Tensor: shape=(3, 3), dtype=int32, numpy=\n",
              "array([[ 27,  30,  33],\n",
              "       [ 61,  68,  75],\n",
              "       [ 95, 106, 117]], dtype=int32)>"
            ]
          },
          "metadata": {
            "tags": []
          },
          "execution_count": 56
        }
      ]
    },
    {
      "cell_type": "code",
      "metadata": {
        "id": "KaaqD8RYuyBO",
        "colab": {
          "base_uri": "https://localhost:8080/"
        },
        "outputId": "4e4f89e5-d7ae-45bd-cede-eeee573e13d1"
      },
      "source": [
        "#So above we are doing X*Y with\n",
        "X, tf.reshape(Y, shape=(2,3))\n",
        "\n",
        "## So like this\n",
        "#\n",
        "# [1 2] * [7 8 9]      = [27 30 33]\n",
        "# [3 4]   [10, 11, 12]   [61 68 75]\n",
        "# [5 6]                  [95 106 117]"
      ],
      "execution_count": 57,
      "outputs": [
        {
          "output_type": "execute_result",
          "data": {
            "text/plain": [
              "(<tf.Tensor: shape=(3, 2), dtype=int32, numpy=\n",
              " array([[1, 2],\n",
              "        [3, 4],\n",
              "        [5, 6]], dtype=int32)>, <tf.Tensor: shape=(2, 3), dtype=int32, numpy=\n",
              " array([[ 7,  8,  9],\n",
              "        [10, 11, 12]], dtype=int32)>)"
            ]
          },
          "metadata": {
            "tags": []
          },
          "execution_count": 57
        }
      ]
    },
    {
      "cell_type": "code",
      "metadata": {
        "id": "Yii7txzcvRx5",
        "colab": {
          "base_uri": "https://localhost:8080/"
        },
        "outputId": "5d8edefa-8a27-4e37-e931-5ce02d4c5488"
      },
      "source": [
        "#Check values of Y reshape Y and transposed Y altogether\n",
        "\n",
        "print('Normal Y: ')\n",
        "print(Y, \"\\n\")\n",
        "\n",
        "print('Y reshaped to 2,3): ')\n",
        "print(tf.reshape(Y, (2,3)), \"\\n\")\n",
        "\n",
        "print('Y transposed: ')\n",
        "print(tf.transpose(Y))"
      ],
      "execution_count": 58,
      "outputs": [
        {
          "output_type": "stream",
          "text": [
            "Normal Y: \n",
            "tf.Tensor(\n",
            "[[ 7  8]\n",
            " [ 9 10]\n",
            " [11 12]], shape=(3, 2), dtype=int32) \n",
            "\n",
            "Y reshaped to 2,3): \n",
            "tf.Tensor(\n",
            "[[ 7  8  9]\n",
            " [10 11 12]], shape=(2, 3), dtype=int32) \n",
            "\n",
            "Y transposed: \n",
            "tf.Tensor(\n",
            "[[ 7  9 11]\n",
            " [ 8 10 12]], shape=(2, 3), dtype=int32)\n"
          ],
          "name": "stdout"
        }
      ]
    },
    {
      "cell_type": "markdown",
      "metadata": {
        "id": "zJTHtSenyE3V"
      },
      "source": [
        "Changing the datatype of a tensor\n"
      ]
    },
    {
      "cell_type": "code",
      "metadata": {
        "id": "bGwRG_62yHy_",
        "colab": {
          "base_uri": "https://localhost:8080/"
        },
        "outputId": "3a55e0ce-fdb4-4b5c-b415-0a1f898a1909"
      },
      "source": [
        "#create a new tensor\n",
        "\n",
        "B = tf.constant([1.7, 7.4])\n",
        "B.dtype"
      ],
      "execution_count": 59,
      "outputs": [
        {
          "output_type": "execute_result",
          "data": {
            "text/plain": [
              "tf.float32"
            ]
          },
          "metadata": {
            "tags": []
          },
          "execution_count": 59
        }
      ]
    },
    {
      "cell_type": "code",
      "metadata": {
        "id": "t05bOpl3yVHp",
        "colab": {
          "base_uri": "https://localhost:8080/"
        },
        "outputId": "6e5396d8-65ae-456a-b9d3-5b4bbad20920"
      },
      "source": [
        "C = tf.constant([10, 11])\n",
        "C.dtype"
      ],
      "execution_count": 60,
      "outputs": [
        {
          "output_type": "execute_result",
          "data": {
            "text/plain": [
              "tf.int32"
            ]
          },
          "metadata": {
            "tags": []
          },
          "execution_count": 60
        }
      ]
    },
    {
      "cell_type": "code",
      "metadata": {
        "id": "He0JhThYybLd",
        "colab": {
          "base_uri": "https://localhost:8080/"
        },
        "outputId": "83d9dd26-aefd-4f48-f768-8d16156acb36"
      },
      "source": [
        "#Changing from float32 to float16 # 16 bit dtype run faster \n",
        "D = tf.cast(B, dtype=tf.float16)\n",
        "D, B"
      ],
      "execution_count": 61,
      "outputs": [
        {
          "output_type": "execute_result",
          "data": {
            "text/plain": [
              "(<tf.Tensor: shape=(2,), dtype=float16, numpy=array([1.7, 7.4], dtype=float16)>,\n",
              " <tf.Tensor: shape=(2,), dtype=float32, numpy=array([1.7, 7.4], dtype=float32)>)"
            ]
          },
          "metadata": {
            "tags": []
          },
          "execution_count": 61
        }
      ]
    },
    {
      "cell_type": "code",
      "metadata": {
        "id": "IL51iHo0zSmD",
        "colab": {
          "base_uri": "https://localhost:8080/"
        },
        "outputId": "5ed0bbb0-48aa-406b-b276-8fc3a1eb9660"
      },
      "source": [
        "#Chang int32 to float32\n",
        "E = tf.cast(C,dtype=tf.float32)\n",
        "E, C"
      ],
      "execution_count": 62,
      "outputs": [
        {
          "output_type": "execute_result",
          "data": {
            "text/plain": [
              "(<tf.Tensor: shape=(2,), dtype=float32, numpy=array([10., 11.], dtype=float32)>,\n",
              " <tf.Tensor: shape=(2,), dtype=int32, numpy=array([10, 11], dtype=int32)>)"
            ]
          },
          "metadata": {
            "tags": []
          },
          "execution_count": 62
        }
      ]
    },
    {
      "cell_type": "markdown",
      "metadata": {
        "id": "alZN6pcFzu6O"
      },
      "source": [
        "Aggregating Tensors\n"
      ]
    },
    {
      "cell_type": "code",
      "metadata": {
        "id": "f-PjjNJwzw2_",
        "colab": {
          "base_uri": "https://localhost:8080/"
        },
        "outputId": "b6232581-afe1-47f0-fc94-34374ff79cac"
      },
      "source": [
        "#multiple values down to a smaller number of values\n",
        "\n",
        "# Get the absolute values\n",
        "D = tf.constant([-7,-10])\n",
        "D"
      ],
      "execution_count": 63,
      "outputs": [
        {
          "output_type": "execute_result",
          "data": {
            "text/plain": [
              "<tf.Tensor: shape=(2,), dtype=int32, numpy=array([ -7, -10], dtype=int32)>"
            ]
          },
          "metadata": {
            "tags": []
          },
          "execution_count": 63
        }
      ]
    },
    {
      "cell_type": "code",
      "metadata": {
        "id": "TfiRQ9Wi2M74",
        "colab": {
          "base_uri": "https://localhost:8080/"
        },
        "outputId": "29bff759-479c-4b2f-944a-df5206bc4e5a"
      },
      "source": [
        "tf.abs(D)"
      ],
      "execution_count": 64,
      "outputs": [
        {
          "output_type": "execute_result",
          "data": {
            "text/plain": [
              "<tf.Tensor: shape=(2,), dtype=int32, numpy=array([ 7, 10], dtype=int32)>"
            ]
          },
          "metadata": {
            "tags": []
          },
          "execution_count": 64
        }
      ]
    },
    {
      "cell_type": "code",
      "metadata": {
        "id": "2-_7gXz82XZL"
      },
      "source": [
        "# Here are some more:\n",
        "# 1. Min\n",
        "# 2. Max\n",
        "# 3. Mean\n",
        "# 4. Sum\n"
      ],
      "execution_count": 65,
      "outputs": []
    },
    {
      "cell_type": "code",
      "metadata": {
        "id": "6i4ggydq2h5V",
        "colab": {
          "base_uri": "https://localhost:8080/"
        },
        "outputId": "2ae959a6-8f4e-4549-a932-6708ccd0f912"
      },
      "source": [
        "E = tf.constant(np.random.randint(0, 100, 50)) #0-100 size=50\n",
        "E\n",
        "E.shape, E.ndim\n",
        "\n",
        "# FIND THE MIN\n",
        "tf.reduce_min(E)"
      ],
      "execution_count": 66,
      "outputs": [
        {
          "output_type": "execute_result",
          "data": {
            "text/plain": [
              "<tf.Tensor: shape=(), dtype=int64, numpy=2>"
            ]
          },
          "metadata": {
            "tags": []
          },
          "execution_count": 66
        }
      ]
    },
    {
      "cell_type": "code",
      "metadata": {
        "id": "w8-6CLLQ3E62",
        "colab": {
          "base_uri": "https://localhost:8080/"
        },
        "outputId": "7a32c124-524b-47bc-88fa-fb73a6163015"
      },
      "source": [
        "tf.reduce_max(E) #MAX"
      ],
      "execution_count": 67,
      "outputs": [
        {
          "output_type": "execute_result",
          "data": {
            "text/plain": [
              "<tf.Tensor: shape=(), dtype=int64, numpy=99>"
            ]
          },
          "metadata": {
            "tags": []
          },
          "execution_count": 67
        }
      ]
    },
    {
      "cell_type": "code",
      "metadata": {
        "id": "b3AghuHu3LI3",
        "colab": {
          "base_uri": "https://localhost:8080/"
        },
        "outputId": "6f85395d-f4ce-4465-a03a-009c2dd538b9"
      },
      "source": [
        "#MEAN\n",
        "tf.reduce_mean(E)"
      ],
      "execution_count": 68,
      "outputs": [
        {
          "output_type": "execute_result",
          "data": {
            "text/plain": [
              "<tf.Tensor: shape=(), dtype=int64, numpy=54>"
            ]
          },
          "metadata": {
            "tags": []
          },
          "execution_count": 68
        }
      ]
    },
    {
      "cell_type": "code",
      "metadata": {
        "id": "EI07k73x3QC7",
        "colab": {
          "base_uri": "https://localhost:8080/"
        },
        "outputId": "ddeccaf0-d31c-432f-cb3d-20d98a684a74"
      },
      "source": [
        "#SUM\n",
        "tf.reduce_sum(E)"
      ],
      "execution_count": 69,
      "outputs": [
        {
          "output_type": "execute_result",
          "data": {
            "text/plain": [
              "<tf.Tensor: shape=(), dtype=int64, numpy=2741>"
            ]
          },
          "metadata": {
            "tags": []
          },
          "execution_count": 69
        }
      ]
    },
    {
      "cell_type": "code",
      "metadata": {
        "id": "hRZDeEsa3exV"
      },
      "source": [
        "import tensorflow_probability as tfp"
      ],
      "execution_count": 70,
      "outputs": []
    },
    {
      "cell_type": "markdown",
      "metadata": {
        "id": "CT7QwsO84y6c"
      },
      "source": [
        "Using https://www.tensorflow.org/probability/api_docs/python/tfp"
      ]
    },
    {
      "cell_type": "code",
      "metadata": {
        "id": "L3nB_L1R4kKL",
        "colab": {
          "base_uri": "https://localhost:8080/"
        },
        "outputId": "23ba6176-3d74-4b87-bdea-3674b357dea6"
      },
      "source": [
        "#variability\n",
        "tfp.stats.variance(E)"
      ],
      "execution_count": 71,
      "outputs": [
        {
          "output_type": "execute_result",
          "data": {
            "text/plain": [
              "<tf.Tensor: shape=(), dtype=int64, numpy=805>"
            ]
          },
          "metadata": {
            "tags": []
          },
          "execution_count": 71
        }
      ]
    },
    {
      "cell_type": "code",
      "metadata": {
        "id": "MYBV51hl4rHW",
        "colab": {
          "base_uri": "https://localhost:8080/"
        },
        "outputId": "d8b4d159-4d59-4c05-f2e4-2c3597542866"
      },
      "source": [
        "#SD well not for ints, so change to float\n",
        "F = tf.cast(E, dtype=tf.float32)\n",
        "tf.math.reduce_std(F)"
      ],
      "execution_count": 72,
      "outputs": [
        {
          "output_type": "execute_result",
          "data": {
            "text/plain": [
              "<tf.Tensor: shape=(), dtype=float32, numpy=28.367369>"
            ]
          },
          "metadata": {
            "tags": []
          },
          "execution_count": 72
        }
      ]
    },
    {
      "cell_type": "code",
      "metadata": {
        "id": "77f2MlzxJtAH",
        "colab": {
          "base_uri": "https://localhost:8080/"
        },
        "outputId": "6df82483-8582-44df-9676-7fdebb687b92"
      },
      "source": [
        "#Find variance of E tensor\n",
        "tf.math.reduce_variance(tf.cast(E, dtype=tf.float32))\n",
        "#very similar to using stats.variance"
      ],
      "execution_count": 73,
      "outputs": [
        {
          "output_type": "execute_result",
          "data": {
            "text/plain": [
              "<tf.Tensor: shape=(), dtype=float32, numpy=804.7076>"
            ]
          },
          "metadata": {
            "tags": []
          },
          "execution_count": 73
        }
      ]
    },
    {
      "cell_type": "markdown",
      "metadata": {
        "id": "usB184vQ53Wr"
      },
      "source": [
        "Find positional max and min\n"
      ]
    },
    {
      "cell_type": "code",
      "metadata": {
        "id": "Bps5pwoN552G",
        "colab": {
          "base_uri": "https://localhost:8080/"
        },
        "outputId": "0b83f880-8331-46a2-fb92-1424b4b9e3db"
      },
      "source": [
        "# create tensor\n",
        "tf.random.set_seed(42)\n",
        "F = tf.random.uniform(shape=[50])\n",
        "F"
      ],
      "execution_count": 74,
      "outputs": [
        {
          "output_type": "execute_result",
          "data": {
            "text/plain": [
              "<tf.Tensor: shape=(50,), dtype=float32, numpy=\n",
              "array([0.6645621 , 0.44100678, 0.3528825 , 0.46448255, 0.03366041,\n",
              "       0.68467236, 0.74011743, 0.8724445 , 0.22632635, 0.22319686,\n",
              "       0.3103881 , 0.7223358 , 0.13318717, 0.5480639 , 0.5746088 ,\n",
              "       0.8996835 , 0.00946367, 0.5212307 , 0.6345445 , 0.1993283 ,\n",
              "       0.72942245, 0.54583454, 0.10756552, 0.6767061 , 0.6602763 ,\n",
              "       0.33695042, 0.60141766, 0.21062577, 0.8527372 , 0.44062173,\n",
              "       0.9485276 , 0.23752594, 0.81179297, 0.5263394 , 0.494308  ,\n",
              "       0.21612847, 0.8457197 , 0.8718841 , 0.3083862 , 0.6868038 ,\n",
              "       0.23764038, 0.7817228 , 0.9671384 , 0.06870162, 0.79873943,\n",
              "       0.66028714, 0.5871513 , 0.16461694, 0.7381023 , 0.32054043],\n",
              "      dtype=float32)>"
            ]
          },
          "metadata": {
            "tags": []
          },
          "execution_count": 74
        }
      ]
    },
    {
      "cell_type": "code",
      "metadata": {
        "id": "2B_ns6KtMpBY",
        "colab": {
          "base_uri": "https://localhost:8080/"
        },
        "outputId": "00830571-2c91-4a64-e68e-99de5a0e4c99"
      },
      "source": [
        "#at which index does the max value occur? find positional max\n",
        "tf.argmax(F)"
      ],
      "execution_count": 75,
      "outputs": [
        {
          "output_type": "execute_result",
          "data": {
            "text/plain": [
              "<tf.Tensor: shape=(), dtype=int64, numpy=42>"
            ]
          },
          "metadata": {
            "tags": []
          },
          "execution_count": 75
        }
      ]
    },
    {
      "cell_type": "code",
      "metadata": {
        "id": "h27i22diM5ol",
        "colab": {
          "base_uri": "https://localhost:8080/"
        },
        "outputId": "359a36f8-036e-4f7f-d009-b3808f6d8000"
      },
      "source": [
        "#index on largest value position so we can see what the value is\n",
        "F[tf.argmax(F)]"
      ],
      "execution_count": 76,
      "outputs": [
        {
          "output_type": "execute_result",
          "data": {
            "text/plain": [
              "<tf.Tensor: shape=(), dtype=float32, numpy=0.9671384>"
            ]
          },
          "metadata": {
            "tags": []
          },
          "execution_count": 76
        }
      ]
    },
    {
      "cell_type": "code",
      "metadata": {
        "id": "IwmBxbG5NHnH",
        "colab": {
          "base_uri": "https://localhost:8080/"
        },
        "outputId": "b4756258-5f45-4d97-e62a-9af136347390"
      },
      "source": [
        "#find max value for F tensor. So yes this is the same\n",
        "tf.reduce_max(F)"
      ],
      "execution_count": 77,
      "outputs": [
        {
          "output_type": "execute_result",
          "data": {
            "text/plain": [
              "<tf.Tensor: shape=(), dtype=float32, numpy=0.9671384>"
            ]
          },
          "metadata": {
            "tags": []
          },
          "execution_count": 77
        }
      ]
    },
    {
      "cell_type": "code",
      "metadata": {
        "id": "FSko-TkSNQMp"
      },
      "source": [
        "assert F[tf.argmax(F)] == tf.reduce_max(F) #checking for equality"
      ],
      "execution_count": 78,
      "outputs": []
    },
    {
      "cell_type": "code",
      "metadata": {
        "id": "CigVBI6-NgRz",
        "colab": {
          "base_uri": "https://localhost:8080/"
        },
        "outputId": "8aeff69f-1dd6-4df0-c36a-d7c09bd77c5a"
      },
      "source": [
        "F[tf.argmax(F)] == tf.reduce_max(F)"
      ],
      "execution_count": 79,
      "outputs": [
        {
          "output_type": "execute_result",
          "data": {
            "text/plain": [
              "<tf.Tensor: shape=(), dtype=bool, numpy=True>"
            ]
          },
          "metadata": {
            "tags": []
          },
          "execution_count": 79
        }
      ]
    },
    {
      "cell_type": "code",
      "metadata": {
        "id": "UDtPSgePNh0t",
        "colab": {
          "base_uri": "https://localhost:8080/"
        },
        "outputId": "ad807f12-a070-44a5-94ed-98a67e4d35d5"
      },
      "source": [
        "#now for positional minimum\n",
        "tf.argmin(F)"
      ],
      "execution_count": 80,
      "outputs": [
        {
          "output_type": "execute_result",
          "data": {
            "text/plain": [
              "<tf.Tensor: shape=(), dtype=int64, numpy=16>"
            ]
          },
          "metadata": {
            "tags": []
          },
          "execution_count": 80
        }
      ]
    },
    {
      "cell_type": "code",
      "metadata": {
        "id": "AO6QsaxMNzea",
        "colab": {
          "base_uri": "https://localhost:8080/"
        },
        "outputId": "9dea6ca0-23b5-4696-eced-6ae024eb5fa4"
      },
      "source": [
        "F[tf.argmin(F)]"
      ],
      "execution_count": 81,
      "outputs": [
        {
          "output_type": "execute_result",
          "data": {
            "text/plain": [
              "<tf.Tensor: shape=(), dtype=float32, numpy=0.009463668>"
            ]
          },
          "metadata": {
            "tags": []
          },
          "execution_count": 81
        }
      ]
    },
    {
      "cell_type": "code",
      "metadata": {
        "id": "gn29ZD87N2qv",
        "colab": {
          "base_uri": "https://localhost:8080/"
        },
        "outputId": "aa58c124-ebf6-4e8b-88ce-fcfb25a0e405"
      },
      "source": [
        "tf.reduce_min(F)"
      ],
      "execution_count": 82,
      "outputs": [
        {
          "output_type": "execute_result",
          "data": {
            "text/plain": [
              "<tf.Tensor: shape=(), dtype=float32, numpy=0.009463668>"
            ]
          },
          "metadata": {
            "tags": []
          },
          "execution_count": 82
        }
      ]
    },
    {
      "cell_type": "code",
      "metadata": {
        "id": "792ZvXvxN6q1",
        "colab": {
          "base_uri": "https://localhost:8080/"
        },
        "outputId": "0525688e-4850-4dab-d482-a354f89ba21d"
      },
      "source": [
        "F[tf.argmin(F)] == tf.reduce_min(F)"
      ],
      "execution_count": 83,
      "outputs": [
        {
          "output_type": "execute_result",
          "data": {
            "text/plain": [
              "<tf.Tensor: shape=(), dtype=bool, numpy=True>"
            ]
          },
          "metadata": {
            "tags": []
          },
          "execution_count": 83
        }
      ]
    },
    {
      "cell_type": "markdown",
      "metadata": {
        "id": "BdWfSfGTQ-rN"
      },
      "source": [
        "Squeezing a tensor (removing all single dimensions)\n"
      ]
    },
    {
      "cell_type": "code",
      "metadata": {
        "id": "7ILAt-uKRCf7",
        "colab": {
          "base_uri": "https://localhost:8080/"
        },
        "outputId": "61ba4729-7747-43c8-baed-0ba10bd997e0"
      },
      "source": [
        "#create tensor\n",
        "tf.random.set_seed(42)\n",
        "G = tf.constant(tf.random.uniform(shape=[50]), shape =(1,1,1,1,50))\n",
        "G"
      ],
      "execution_count": 84,
      "outputs": [
        {
          "output_type": "execute_result",
          "data": {
            "text/plain": [
              "<tf.Tensor: shape=(1, 1, 1, 1, 50), dtype=float32, numpy=\n",
              "array([[[[[0.6645621 , 0.44100678, 0.3528825 , 0.46448255, 0.03366041,\n",
              "           0.68467236, 0.74011743, 0.8724445 , 0.22632635, 0.22319686,\n",
              "           0.3103881 , 0.7223358 , 0.13318717, 0.5480639 , 0.5746088 ,\n",
              "           0.8996835 , 0.00946367, 0.5212307 , 0.6345445 , 0.1993283 ,\n",
              "           0.72942245, 0.54583454, 0.10756552, 0.6767061 , 0.6602763 ,\n",
              "           0.33695042, 0.60141766, 0.21062577, 0.8527372 , 0.44062173,\n",
              "           0.9485276 , 0.23752594, 0.81179297, 0.5263394 , 0.494308  ,\n",
              "           0.21612847, 0.8457197 , 0.8718841 , 0.3083862 , 0.6868038 ,\n",
              "           0.23764038, 0.7817228 , 0.9671384 , 0.06870162, 0.79873943,\n",
              "           0.66028714, 0.5871513 , 0.16461694, 0.7381023 , 0.32054043]]]]],\n",
              "      dtype=float32)>"
            ]
          },
          "metadata": {
            "tags": []
          },
          "execution_count": 84
        }
      ]
    },
    {
      "cell_type": "code",
      "metadata": {
        "id": "qKJb2xfZRcVo",
        "colab": {
          "base_uri": "https://localhost:8080/"
        },
        "outputId": "eebedc47-7917-4dc7-e27c-677eede94c6f"
      },
      "source": [
        "G.shape"
      ],
      "execution_count": 85,
      "outputs": [
        {
          "output_type": "execute_result",
          "data": {
            "text/plain": [
              "TensorShape([1, 1, 1, 1, 50])"
            ]
          },
          "metadata": {
            "tags": []
          },
          "execution_count": 85
        }
      ]
    },
    {
      "cell_type": "code",
      "metadata": {
        "id": "cVoi6TFjRebt",
        "colab": {
          "base_uri": "https://localhost:8080/"
        },
        "outputId": "455f65b4-4437-47bd-8dae-ba234a0955ad"
      },
      "source": [
        "G_squeezed = tf.squeeze(G) #removes dimensions of size 1 from the shape of a tensor\n",
        "G_squeezed"
      ],
      "execution_count": 86,
      "outputs": [
        {
          "output_type": "execute_result",
          "data": {
            "text/plain": [
              "<tf.Tensor: shape=(50,), dtype=float32, numpy=\n",
              "array([0.6645621 , 0.44100678, 0.3528825 , 0.46448255, 0.03366041,\n",
              "       0.68467236, 0.74011743, 0.8724445 , 0.22632635, 0.22319686,\n",
              "       0.3103881 , 0.7223358 , 0.13318717, 0.5480639 , 0.5746088 ,\n",
              "       0.8996835 , 0.00946367, 0.5212307 , 0.6345445 , 0.1993283 ,\n",
              "       0.72942245, 0.54583454, 0.10756552, 0.6767061 , 0.6602763 ,\n",
              "       0.33695042, 0.60141766, 0.21062577, 0.8527372 , 0.44062173,\n",
              "       0.9485276 , 0.23752594, 0.81179297, 0.5263394 , 0.494308  ,\n",
              "       0.21612847, 0.8457197 , 0.8718841 , 0.3083862 , 0.6868038 ,\n",
              "       0.23764038, 0.7817228 , 0.9671384 , 0.06870162, 0.79873943,\n",
              "       0.66028714, 0.5871513 , 0.16461694, 0.7381023 , 0.32054043],\n",
              "      dtype=float32)>"
            ]
          },
          "metadata": {
            "tags": []
          },
          "execution_count": 86
        }
      ]
    },
    {
      "cell_type": "code",
      "metadata": {
        "id": "t6XaQ_0ZRu_Y",
        "colab": {
          "base_uri": "https://localhost:8080/"
        },
        "outputId": "5a4a5953-5fb0-4de2-e9e5-d349bb1e06ac"
      },
      "source": [
        "G_squeezed.shape"
      ],
      "execution_count": 87,
      "outputs": [
        {
          "output_type": "execute_result",
          "data": {
            "text/plain": [
              "TensorShape([50])"
            ]
          },
          "metadata": {
            "tags": []
          },
          "execution_count": 87
        }
      ]
    },
    {
      "cell_type": "markdown",
      "metadata": {
        "id": "wTaosoCdJvne"
      },
      "source": [
        "One-hot encoding"
      ]
    },
    {
      "cell_type": "code",
      "metadata": {
        "id": "qSNG98PNJ0H3"
      },
      "source": [
        "#list of values\n",
        "some_list = [0,1,2,3] # e.g. red green blue purple"
      ],
      "execution_count": 88,
      "outputs": []
    },
    {
      "cell_type": "code",
      "metadata": {
        "colab": {
          "base_uri": "https://localhost:8080/"
        },
        "id": "e_9ExPYiKDX1",
        "outputId": "9dc070c7-42c2-4f58-d10b-2b07fb53e165"
      },
      "source": [
        "#one-hot encode\n",
        "tf.one_hot(some_list, depth=4) #depth =4"
      ],
      "execution_count": 89,
      "outputs": [
        {
          "output_type": "execute_result",
          "data": {
            "text/plain": [
              "<tf.Tensor: shape=(4, 4), dtype=float32, numpy=\n",
              "array([[1., 0., 0., 0.],\n",
              "       [0., 1., 0., 0.],\n",
              "       [0., 0., 1., 0.],\n",
              "       [0., 0., 0., 1.]], dtype=float32)>"
            ]
          },
          "metadata": {
            "tags": []
          },
          "execution_count": 89
        }
      ]
    },
    {
      "cell_type": "code",
      "metadata": {
        "colab": {
          "base_uri": "https://localhost:8080/"
        },
        "id": "31HIYdCVKesF",
        "outputId": "a9c1ae9b-be23-4ba2-bb2f-3998ab101fc3"
      },
      "source": [
        "#specify custom values for on-hot encoding\n",
        "tf.one_hot(some_list, depth=4, on_value=\"On\", off_value=\"Off\")"
      ],
      "execution_count": 90,
      "outputs": [
        {
          "output_type": "execute_result",
          "data": {
            "text/plain": [
              "<tf.Tensor: shape=(4, 4), dtype=string, numpy=\n",
              "array([[b'On', b'Off', b'Off', b'Off'],\n",
              "       [b'Off', b'On', b'Off', b'Off'],\n",
              "       [b'Off', b'Off', b'On', b'Off'],\n",
              "       [b'Off', b'Off', b'Off', b'On']], dtype=object)>"
            ]
          },
          "metadata": {
            "tags": []
          },
          "execution_count": 90
        }
      ]
    },
    {
      "cell_type": "code",
      "metadata": {
        "colab": {
          "base_uri": "https://localhost:8080/"
        },
        "id": "6nF5V1aYK7Tz",
        "outputId": "d74f8d65-22c4-4146-b090-8d62956819b0"
      },
      "source": [
        "#one-hot encode\n",
        "tf.one_hot(some_list, depth=3) #depth =3"
      ],
      "execution_count": 91,
      "outputs": [
        {
          "output_type": "execute_result",
          "data": {
            "text/plain": [
              "<tf.Tensor: shape=(4, 3), dtype=float32, numpy=\n",
              "array([[1., 0., 0.],\n",
              "       [0., 1., 0.],\n",
              "       [0., 0., 1.],\n",
              "       [0., 0., 0.]], dtype=float32)>"
            ]
          },
          "metadata": {
            "tags": []
          },
          "execution_count": 91
        }
      ]
    },
    {
      "cell_type": "code",
      "metadata": {
        "id": "6ZcInEpDPn8B"
      },
      "source": [
        "### Squaring, log, sqrt"
      ],
      "execution_count": 92,
      "outputs": []
    },
    {
      "cell_type": "code",
      "metadata": {
        "colab": {
          "base_uri": "https://localhost:8080/"
        },
        "id": "vlUjHA4ePsJU",
        "outputId": "9d529588-b470-4d67-acd2-f85189742b9d"
      },
      "source": [
        "H = tf.range(1,10)\n",
        "H"
      ],
      "execution_count": 93,
      "outputs": [
        {
          "output_type": "execute_result",
          "data": {
            "text/plain": [
              "<tf.Tensor: shape=(9,), dtype=int32, numpy=array([1, 2, 3, 4, 5, 6, 7, 8, 9], dtype=int32)>"
            ]
          },
          "metadata": {
            "tags": []
          },
          "execution_count": 93
        }
      ]
    },
    {
      "cell_type": "code",
      "metadata": {
        "colab": {
          "base_uri": "https://localhost:8080/"
        },
        "id": "ViGCSznPPw1T",
        "outputId": "790a4422-f29e-45af-d0f5-0093c82d7ad8"
      },
      "source": [
        "tf.square(H)"
      ],
      "execution_count": 94,
      "outputs": [
        {
          "output_type": "execute_result",
          "data": {
            "text/plain": [
              "<tf.Tensor: shape=(9,), dtype=int32, numpy=array([ 1,  4,  9, 16, 25, 36, 49, 64, 81], dtype=int32)>"
            ]
          },
          "metadata": {
            "tags": []
          },
          "execution_count": 94
        }
      ]
    },
    {
      "cell_type": "code",
      "metadata": {
        "colab": {
          "base_uri": "https://localhost:8080/"
        },
        "id": "tfEDpHZQPz0c",
        "outputId": "10678828-0afd-429e-ac0b-3e1ac0261933"
      },
      "source": [
        "tf.sqrt(tf.cast(H, dtype=tf.float32)) #cast to a float since sqrt would not take integer"
      ],
      "execution_count": 95,
      "outputs": [
        {
          "output_type": "execute_result",
          "data": {
            "text/plain": [
              "<tf.Tensor: shape=(9,), dtype=float32, numpy=\n",
              "array([1.       , 1.4142135, 1.7320508, 2.       , 2.236068 , 2.4494898,\n",
              "       2.6457512, 2.828427 , 3.       ], dtype=float32)>"
            ]
          },
          "metadata": {
            "tags": []
          },
          "execution_count": 95
        }
      ]
    },
    {
      "cell_type": "code",
      "metadata": {
        "colab": {
          "base_uri": "https://localhost:8080/"
        },
        "id": "kB--RMVvQUk_",
        "outputId": "3567527f-4918-446a-db08-77ad03594a27"
      },
      "source": [
        "tf.math.log(tf.cast(H, dtype=tf.float32)) #again cast to a float since log would not take integer"
      ],
      "execution_count": 96,
      "outputs": [
        {
          "output_type": "execute_result",
          "data": {
            "text/plain": [
              "<tf.Tensor: shape=(9,), dtype=float32, numpy=\n",
              "array([0.       , 0.6931472, 1.0986123, 1.3862944, 1.609438 , 1.7917595,\n",
              "       1.9459102, 2.0794415, 2.1972246], dtype=float32)>"
            ]
          },
          "metadata": {
            "tags": []
          },
          "execution_count": 96
        }
      ]
    },
    {
      "cell_type": "markdown",
      "metadata": {
        "id": "r5AWYLcuQzw1"
      },
      "source": [
        "Tensors and Numpy"
      ]
    },
    {
      "cell_type": "code",
      "metadata": {
        "colab": {
          "base_uri": "https://localhost:8080/"
        },
        "id": "sajUM4mpQ1ec",
        "outputId": "072d91ae-1d4d-4dc2-8a2d-05afe3dbe389"
      },
      "source": [
        "#create a tensor from a numpy array\n",
        "\n",
        "J = tf.constant(np.array([3.,7., 10.]))\n",
        "J"
      ],
      "execution_count": 97,
      "outputs": [
        {
          "output_type": "execute_result",
          "data": {
            "text/plain": [
              "<tf.Tensor: shape=(3,), dtype=float64, numpy=array([ 3.,  7., 10.])>"
            ]
          },
          "metadata": {
            "tags": []
          },
          "execution_count": 97
        }
      ]
    },
    {
      "cell_type": "code",
      "metadata": {
        "colab": {
          "base_uri": "https://localhost:8080/"
        },
        "id": "uHHtn81RRKvK",
        "outputId": "7e357473-b2e8-48a9-ab04-7835593f3b3b"
      },
      "source": [
        "#convert tensor back to numpy array\n",
        "H = np.array(J)\n",
        "H"
      ],
      "execution_count": 98,
      "outputs": [
        {
          "output_type": "execute_result",
          "data": {
            "text/plain": [
              "array([ 3.,  7., 10.])"
            ]
          },
          "metadata": {
            "tags": []
          },
          "execution_count": 98
        }
      ]
    },
    {
      "cell_type": "code",
      "metadata": {
        "colab": {
          "base_uri": "https://localhost:8080/"
        },
        "id": "G6Y_3mHbRutI",
        "outputId": "f2b9f7ca-ded7-4159-c38e-5bb829f59a9e"
      },
      "source": [
        "#convert J to numpy array\n",
        "J.numpy(), type(J.numpy())"
      ],
      "execution_count": 99,
      "outputs": [
        {
          "output_type": "execute_result",
          "data": {
            "text/plain": [
              "(array([ 3.,  7., 10.]), numpy.ndarray)"
            ]
          },
          "metadata": {
            "tags": []
          },
          "execution_count": 99
        }
      ]
    },
    {
      "cell_type": "code",
      "metadata": {
        "colab": {
          "base_uri": "https://localhost:8080/"
        },
        "id": "zSuwdDMjSFGO",
        "outputId": "a316e374-a963-48c6-f81e-7aa502372c86"
      },
      "source": [
        "#Default types of each are slightly different\n",
        "numpy_J = tf.constant(np.array([3., 7., 10.])) #float 64\n",
        "tensor_J = tf.constant([3.,7,10.]) # float 32\n",
        "numpy_J.dtype, tensor_J.dtype\n"
      ],
      "execution_count": 100,
      "outputs": [
        {
          "output_type": "execute_result",
          "data": {
            "text/plain": [
              "(tf.float64, tf.float32)"
            ]
          },
          "metadata": {
            "tags": []
          },
          "execution_count": 100
        }
      ]
    },
    {
      "cell_type": "code",
      "metadata": {
        "colab": {
          "base_uri": "https://localhost:8080/"
        },
        "id": "zto47EsvR9Ts",
        "outputId": "8bc3c120-8249-4d27-d8cd-cc49d1dda0d2"
      },
      "source": [
        "tf.config.list_physical_devices() #what units are available"
      ],
      "execution_count": 101,
      "outputs": [
        {
          "output_type": "execute_result",
          "data": {
            "text/plain": [
              "[PhysicalDevice(name='/physical_device:CPU:0', device_type='CPU'),\n",
              " PhysicalDevice(name='/physical_device:GPU:0', device_type='GPU')]"
            ]
          },
          "metadata": {
            "tags": []
          },
          "execution_count": 101
        }
      ]
    },
    {
      "cell_type": "code",
      "metadata": {
        "colab": {
          "base_uri": "https://localhost:8080/"
        },
        "id": "55oLsIziS6Q5",
        "outputId": "de3b8642-7050-4d17-96b9-c524a2446d75"
      },
      "source": [
        "!nvidia-smi #whats the GPU?"
      ],
      "execution_count": 102,
      "outputs": [
        {
          "output_type": "stream",
          "text": [
            "Mon Aug 16 18:49:08 2021       \n",
            "+-----------------------------------------------------------------------------+\n",
            "| NVIDIA-SMI 470.57.02    Driver Version: 460.32.03    CUDA Version: 11.2     |\n",
            "|-------------------------------+----------------------+----------------------+\n",
            "| GPU  Name        Persistence-M| Bus-Id        Disp.A | Volatile Uncorr. ECC |\n",
            "| Fan  Temp  Perf  Pwr:Usage/Cap|         Memory-Usage | GPU-Util  Compute M. |\n",
            "|                               |                      |               MIG M. |\n",
            "|===============================+======================+======================|\n",
            "|   0  Tesla T4            Off  | 00000000:00:04.0 Off |                    0 |\n",
            "| N/A   49C    P0    28W /  70W |    224MiB / 15109MiB |      0%      Default |\n",
            "|                               |                      |                  N/A |\n",
            "+-------------------------------+----------------------+----------------------+\n",
            "                                                                               \n",
            "+-----------------------------------------------------------------------------+\n",
            "| Processes:                                                                  |\n",
            "|  GPU   GI   CI        PID   Type   Process name                  GPU Memory |\n",
            "|        ID   ID                                                   Usage      |\n",
            "|=============================================================================|\n",
            "|  No running processes found                                                 |\n",
            "+-----------------------------------------------------------------------------+\n"
          ],
          "name": "stdout"
        }
      ]
    }
  ]
}